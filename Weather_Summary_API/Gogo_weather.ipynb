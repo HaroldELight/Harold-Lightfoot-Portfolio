{
 "cells": [
  {
   "cell_type": "code",
   "execution_count": null,
   "metadata": {},
   "outputs": [],
   "source": [
    "# Import the function from local directory\n",
    "\n",
    "import sys\n",
    "sys.path.insert(0, 'C:\\\\Users\\\\Ezelda\\\\OneDrive\\\\Werk\\\\PYTHON\\\\API')\n",
    "from Gogo import Gogo\n",
    "import google.generativeai\n",
    "import os\n",
    "from dotenv import load_dotenv\n",
    "import requests\n",
    "import json\n",
    "import configparser"
   ]
  },
  {
   "cell_type": "code",
   "execution_count": null,
   "metadata": {},
   "outputs": [
    {
     "data": {
      "text/plain": [
       "'Hi there! How can I help you today?\\n'"
      ]
     },
     "execution_count": 2,
     "metadata": {},
     "output_type": "execute_result"
    }
   ],
   "source": [
    "# Imported function to edit and test\n",
    "\n",
    "Gogo(\"Hi\")"
   ]
  },
  {
   "cell_type": "code",
   "execution_count": 3,
   "metadata": {},
   "outputs": [
    {
     "name": "stdout",
     "output_type": "stream",
     "text": [
      "def Gogo(user_prompt):\n",
      "    \"\"\"\n",
      "    Generate a response to the user's prompt using the Gemini model.\n",
      "\n",
      "    Args:\n",
      "        user_prompt (str): The user's prompt or question.\n",
      "\n",
      "    Returns:\n",
      "        str: The generated response.\n",
      "\n",
      "    Imports:\n",
      "        import google.generativeai\n",
      "        import os\n",
      "        from dotenv import load_dotenv\n",
      "\n",
      "    System instruction:\n",
      "        You are a helpful assistant.\n",
      "    \"\"\"\n",
      "    # Create a Gemini model instance with the system instruction\n",
      "    gemini = google.generativeai.GenerativeModel(\n",
      "        model_name='gemini-1.5-flash',\n",
      "        system_instruction=system_message\n",
      "    )\n",
      "\n",
      "    # Generate content using the Gemini model\n",
      "    response = gemini.generate_content(user_prompt)\n",
      "\n",
      "    # Return the generated response text\n",
      "    return response.text\n",
      "\n"
     ]
    }
   ],
   "source": [
    "# Inspect the function\n",
    "\n",
    "import inspect\n",
    "\n",
    "# Get the source code of the function\n",
    "source_code = inspect.getsource(Gogo)\n",
    "\n",
    "# Print the source code\n",
    "print(source_code)"
   ]
  },
  {
   "cell_type": "code",
   "execution_count": 5,
   "metadata": {},
   "outputs": [],
   "source": [
    "# Modify Gemini Function with system instruction\n",
    "\n",
    "def Gogo_weather(user_prompt):\n",
    "    # Create a Gemini model instance with the system instruction\n",
    "    gemini = google.generativeai.GenerativeModel(\n",
    "        model_name='gemini-1.5-flash',\n",
    "        system_instruction='You give succinct clothing advice based on a \\\n",
    "        weather a report in bullet points'\n",
    "    )\n",
    "\n",
    "    # Generate content using the Gemini model\n",
    "    \n",
    "    response = gemini.generate_content(user_prompt)\n",
    "\n",
    "    # Return the generated response text\n",
    "    return response.text\n",
    "    "
   ]
  },
  {
   "cell_type": "code",
   "execution_count": 5,
   "metadata": {},
   "outputs": [
    {
     "data": {
      "text/plain": [
       "'* Waterproof jacket\\n* Warm layers\\n* Sturdy waterproof boots\\n'"
      ]
     },
     "execution_count": 5,
     "metadata": {},
     "output_type": "execute_result"
    }
   ],
   "source": [
    "user_prompt = \"20 degrees, rainy\"\n",
    "Gogo_weather(user_prompt)"
   ]
  },
  {
   "cell_type": "code",
   "execution_count": 8,
   "metadata": {},
   "outputs": [],
   "source": [
    "# Weather API details\n",
    "\n",
    "# Load the config file\n",
    "config = configparser.ConfigParser()\n",
    "config.read('config.ini')\n",
    "\n",
    "# Reference the API key in the config\n",
    "api_key = config['DEFAULT']['YOUR_API_KEY_NAME']\n",
    "\n",
    "# URL\n",
    "base_url = \"http://api.weatherapi.com/v1/current.json\"\n"
   ]
  },
  {
   "cell_type": "code",
   "execution_count": 9,
   "metadata": {},
   "outputs": [],
   "source": [
    "# Get weather from weather API\n",
    "\n",
    "def get_weather(location):\n",
    "    url = f\"{base_url}?key={api_key}&q={location}\"\n",
    "    response = requests.get(url)\n",
    "    if response.status_code == 200:\n",
    "        data = response.json()\n",
    "        return data\n",
    "    else:\n",
    "        return None\n"
   ]
  },
  {
   "cell_type": "code",
   "execution_count": 10,
   "metadata": {},
   "outputs": [],
   "source": [
    "# Have Gemini API suggest clothes based on a location\n",
    "\n",
    "def Clothing_advice():    \n",
    "    location = input('What is your location? ')\n",
    "    weather_data = get_weather(location)\n",
    "    user_prompt = (json.dumps(weather_data, indent=4))\n",
    "    if weather_data:\n",
    "        clothing_advice = Gogo_weather(user_prompt)\n",
    "        print(clothing_advice)\n",
    "    else:\n",
    "        print(\"Failed to get weather data\")\n"
   ]
  },
  {
   "cell_type": "markdown",
   "metadata": {},
   "source": [
    "# Final Product"
   ]
  },
  {
   "cell_type": "code",
   "execution_count": null,
   "metadata": {},
   "outputs": [
    {
     "name": "stdout",
     "output_type": "stream",
     "text": [
      "Sunny and warm (27.3°C).  Wear light clothing; shorts and a t-shirt are suitable.  Sunscreen is highly recommended due to high UV levels.\n",
      "\n"
     ]
    }
   ],
   "source": [
    "# All in one function that gives weather and clothing advice by location\n",
    "Clothing_advice()"
   ]
  }
 ],
 "metadata": {
  "kernelspec": {
   "display_name": "Python 3",
   "language": "python",
   "name": "python3"
  },
  "language_info": {
   "codemirror_mode": {
    "name": "ipython",
    "version": 3
   },
   "file_extension": ".py",
   "mimetype": "text/x-python",
   "name": "python",
   "nbconvert_exporter": "python",
   "pygments_lexer": "ipython3",
   "version": "3.12.5"
  }
 },
 "nbformat": 4,
 "nbformat_minor": 2
}
