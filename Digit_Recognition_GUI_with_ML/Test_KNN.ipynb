{
 "cells": [
  {
   "cell_type": "code",
   "execution_count": 1,
   "metadata": {},
   "outputs": [],
   "source": [
    "import tkinter as tk\n",
    "from PIL import Image, ImageDraw\n",
    "import numpy as np\n",
    "import joblib"
   ]
  },
  {
   "cell_type": "code",
   "execution_count": 2,
   "metadata": {},
   "outputs": [],
   "source": [
    "clf = joblib.load('knn_model.pkl') "
   ]
  },
  {
   "cell_type": "code",
   "execution_count": 3,
   "metadata": {},
   "outputs": [],
   "source": [
    "class App(tk.Tk):\n",
    "    def __init__(self):\n",
    "        super().__init__()\n",
    "        self.title(\"Digit Recognition\")\n",
    "        \n",
    "        # Canvas for drawing\n",
    "        self.canvas = tk.Canvas(self, width=200, height=200, bg='white')\n",
    "        self.canvas.pack()\n",
    "        \n",
    "        # Image and draw objects\n",
    "        self.image1 = Image.new(\"L\", (200, 200), 'white')\n",
    "        self.draw = ImageDraw.Draw(self.image1)\n",
    "        \n",
    "        # Bind the mouse drag event to the paint method\n",
    "        self.canvas.bind(\"<B1-Motion>\", self.paint)\n",
    "        \n",
    "        # Submit button\n",
    "        self.submit_button = tk.Button(self, text='Submit', command=self.on_submit)\n",
    "        self.submit_button.pack(side=tk.LEFT, padx=10, pady=10)\n",
    "        \n",
    "        # Close button\n",
    "        self.close_button = tk.Button(self, text='Close', command=self.on_close)\n",
    "        self.close_button.pack(side=tk.RIGHT, padx=10, pady=10)\n",
    "        \n",
    "        # Label to display prediction\n",
    "        self.pred_label = tk.Label(self, text=\"\", font=(\"Helvetica\", 18))\n",
    "        self.pred_label.pack(pady=10)\n",
    "    \n",
    "    def paint(self, event):\n",
    "        x1, y1 = (event.x - 6), (event.y - 6)\n",
    "        x2, y2 = (event.x + 6), (event.y + 6)\n",
    "        self.canvas.create_oval(x1, y1, x2, y2, fill=\"black\", width=7)\n",
    "        self.draw.line([x1, y1, x2, y2], fill=\"black\", width=14)\n",
    "\n",
    "    def on_submit(self):\n",
    "        self.get_array()\n",
    "        self.predict_and_display()\n",
    "        self.clear_canvas()\n",
    "    \n",
    "    def on_close(self):\n",
    "        self.destroy()  # Close the window\n",
    "\n",
    "    def get_array(self):\n",
    "        self.image1 = self.image1.resize((28, 28))\n",
    "        self.img = np.array(self.image1)  # Store the image array\n",
    "        self.img = 255 - self.img  # Invert colors (white background to black)\n",
    "\n",
    "    def predict_and_display(self):\n",
    "        self.get_array()\n",
    "        new_img = self.img.reshape(1, 28 * 28)\n",
    "        y_pred = clf.predict(new_img)\n",
    "        self.pred_label.config(text=f\"Predicted: {y_pred[0]}\")\n",
    "\n",
    "    def clear_canvas(self):\n",
    "        self.canvas.delete(\"all\")\n",
    "        self.image1 = Image.new(\"L\", (200, 200), 'white')\n",
    "        self.draw = ImageDraw.Draw(self.image1)"
   ]
  },
  {
   "cell_type": "code",
   "execution_count": 4,
   "metadata": {},
   "outputs": [],
   "source": [
    "# Instantiate and run the app\n",
    "app = App()\n",
    "app.mainloop()"
   ]
  }
 ],
 "metadata": {
  "kernelspec": {
   "display_name": "Python 3",
   "language": "python",
   "name": "python3"
  },
  "language_info": {
   "codemirror_mode": {
    "name": "ipython",
    "version": 3
   },
   "file_extension": ".py",
   "mimetype": "text/x-python",
   "name": "python",
   "nbconvert_exporter": "python",
   "pygments_lexer": "ipython3",
   "version": "3.12.5"
  }
 },
 "nbformat": 4,
 "nbformat_minor": 2
}
