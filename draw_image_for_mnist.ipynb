{
 "cells": [
  {
   "cell_type": "code",
   "execution_count": 1,
   "metadata": {},
   "outputs": [],
   "source": [
    "# Steps to create a number by drawing on the canvas\n",
    "# 1. Create a canvas\n",
    "# 2. Draw on the canvas\n",
    "# 3. Extract the number from the image\n",
    "# 4. Plot the number in MNIST format"
   ]
  },
  {
   "cell_type": "markdown",
   "metadata": {},
   "source": [
    "# 1. Create a Canvas"
   ]
  },
  {
   "cell_type": "code",
   "execution_count": 2,
   "metadata": {},
   "outputs": [],
   "source": [
    "# Imports\n",
    "\n",
    "import tkinter as tk\n",
    "from PIL import Image, ImageGrab\n",
    "import numpy as np"
   ]
  },
  {
   "cell_type": "code",
   "execution_count": 3,
   "metadata": {},
   "outputs": [],
   "source": [
    "# Create a canvas\n",
    "\n",
    "root = tk.Tk() # Create a root window\n",
    "canvas = tk.Canvas(root, width=400, height=400, bg='white') # Create a canvas \n",
    "canvas.pack() # Pack the canvas into the root window\n",
    "root.mainloop() # run the root window"
   ]
  },
  {
   "cell_type": "markdown",
   "metadata": {},
   "source": [
    "# 2. Draw on the Canvas"
   ]
  },
  {
   "cell_type": "code",
   "execution_count": 4,
   "metadata": {},
   "outputs": [],
   "source": [
    "# Draw on the canvas with a mouse\n",
    "root = tk.Tk()\n",
    "canvas = tk.Canvas(root, width=280, height=280, bg='black')\n",
    "canvas.pack()\n",
    "\n",
    "def draw(event): # draw on the canvas\n",
    "    x1, y1 = (event.x - 5), (event.y - 5) \n",
    "    # event.x and event.y are the coordinates of the mouse\n",
    "    x2, y2 = (event.x + 5), (event.y + 5) \n",
    "    # the number increase the size of the brush\n",
    "    canvas.create_oval(\n",
    "        x1, y1, x2, y2, fill='white', \n",
    "        outline='white', \n",
    "        width=7\n",
    "        ) # create a black circle\n",
    "\n",
    "canvas.bind(\"<B1-Motion>\", draw) # bind the mouse to the canvas\n",
    "root.mainloop() # run the root window\n"
   ]
  },
  {
   "cell_type": "markdown",
   "metadata": {},
   "source": [
    "# 3. Convert image into an array"
   ]
  },
  {
   "cell_type": "code",
   "execution_count": 5,
   "metadata": {},
   "outputs": [],
   "source": [
    "# Imports\n",
    "\n",
    "import tkinter as tk\n",
    "from PIL import Image, ImageDraw\n",
    "import numpy as np"
   ]
  },
  {
   "cell_type": "code",
   "execution_count": 6,
   "metadata": {},
   "outputs": [],
   "source": [
    "\n",
    "class App(tk.Tk):\n",
    "    def __init__(self):\n",
    "        super().__init__()\n",
    "        self.canvas = tk.Canvas(self, width=200, height=200, bg='white')\n",
    "        self.canvas.pack()\n",
    "        self.image1 = Image.new(\"L\", (200, 200), 'white')\n",
    "        self.draw = ImageDraw.Draw(self.image1)\n",
    "        self.canvas.bind(\"<B1-Motion>\", self.paint)\n",
    "        self.button = tk.Button(self, text='Submit', command=self.on_submit)\n",
    "        self.button.pack()\n",
    "        self.img = None  # Instance attribute to store the image array\n",
    "\n",
    "    def paint(self, event):\n",
    "        x1, y1 = (event.x - 1), (event.y - 10)\n",
    "        x2, y2 = (event.x + 1), (event.y + 1)\n",
    "        self.canvas.create_oval(x1, y1, x2, y2, fill=\"black\", width=10)\n",
    "        self.draw.line([x1, y1, x2, y2], fill=\"black\", width=10)\n",
    "\n",
    "    def on_submit(self):\n",
    "        self.get_array()\n",
    "        self.destroy()  # Close the window properly\n",
    "\n",
    "    def get_array(self):\n",
    "        self.image1 = self.image1.resize((28, 28))\n",
    "        self.img = np.array(self.image1)  # Store the image array in the instance attribute\n",
    "        self.img = 255 - self.img\n",
    "       # print(self.img)\n",
    "\n",
    "# Instantiate and run the app\n",
    "app = App()\n",
    "app.mainloop()\n",
    "\n",
    "# Access the image array after the Tkinter main loop ends\n",
    "new_img = app.img\n",
    "# print(\"Image array outside the function:\", new_img)\n"
   ]
  },
  {
   "cell_type": "markdown",
   "metadata": {},
   "source": [
    "# Plot the number in MNIST format"
   ]
  },
  {
   "cell_type": "code",
   "execution_count": 7,
   "metadata": {},
   "outputs": [
    {
     "data": {
      "image/png": "[encoded data removed]",
      "text/plain": [
       "<Figure size 640x480 with 1 Axes>"
      ]
     },
     "metadata": {},
     "output_type": "display_data"
    }
   ],
   "source": [
    "import matplotlib.pyplot as plt\n",
    "\n",
    "plt.imshow(new_img, cmap='gray')\n",
    "plt.show()"
   ]
  },
  {
   "cell_type": "markdown",
   "metadata": {},
   "source": [
    "# Looking good!"
   ]
  }
 ],
 "metadata": {
  "kernelspec": {
   "display_name": "Python 3",
   "language": "python",
   "name": "python3"
  },
  "language_info": {
   "codemirror_mode": {
    "name": "ipython",
    "version": 3
   },
   "file_extension": ".py",
   "mimetype": "text/x-python",
   "name": "python",
   "nbconvert_exporter": "python",
   "pygments_lexer": "ipython3",
   "version": "3.12.5"
  }
 },
 "nbformat": 4,
 "nbformat_minor": 2
}
